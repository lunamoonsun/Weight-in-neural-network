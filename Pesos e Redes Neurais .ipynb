{
 "cells": [
  {
   "cell_type": "markdown",
   "id": "092ae81d",
   "metadata": {},
   "source": [
    "## Inicialização de pesos em redes neurais artificiais "
   ]
  },
  {
   "cell_type": "markdown",
   "id": "14a9e4b0",
   "metadata": {},
   "source": [
    "Os pesos geralmente são inicializados a partir de duas formas, na distribuição normal e na distribuição uniforme."
   ]
  },
  {
   "cell_type": "code",
   "execution_count": 2,
   "id": "f0fc6283",
   "metadata": {},
   "outputs": [
    {
     "data": {
      "text/plain": [
       "'2.13.0'"
      ]
     },
     "execution_count": 2,
     "metadata": {},
     "output_type": "execute_result"
    }
   ],
   "source": [
    "import tensorflow as tf\n",
    "tf.__version__"
   ]
  },
  {
   "cell_type": "markdown",
   "id": "a4368fa9",
   "metadata": {},
   "source": [
    "### Inicializadores "
   ]
  },
  {
   "cell_type": "code",
   "execution_count": 13,
   "id": "a086b797",
   "metadata": {},
   "outputs": [],
   "source": [
    "from tensorflow.keras import initializers\n",
    "import numpy as np\n",
    "import seaborn as sns"
   ]
  },
  {
   "cell_type": "markdown",
   "id": "8bada9b6",
   "metadata": {},
   "source": [
    "### Random Normal"
   ]
  },
  {
   "cell_type": "markdown",
   "id": "11789bba",
   "metadata": {},
   "source": [
    "Para problemas menos complexas podem utilizar esse tipo de distribuição para os pesos"
   ]
  },
  {
   "cell_type": "code",
   "execution_count": 14,
   "id": "43c00b83",
   "metadata": {},
   "outputs": [],
   "source": [
    "normal = initializers.RandomNormal()"
   ]
  },
  {
   "cell_type": "code",
   "execution_count": 15,
   "id": "cf2d71a5",
   "metadata": {},
   "outputs": [],
   "source": [
    "dados_normal = normal(shape=[1000]) # Gerando os dados "
   ]
  },
  {
   "cell_type": "code",
   "execution_count": 16,
   "id": "f38e0026",
   "metadata": {},
   "outputs": [
    {
     "data": {
      "text/plain": [
       "(0.00022553075, 0.049932003)"
      ]
     },
     "execution_count": 16,
     "metadata": {},
     "output_type": "execute_result"
    }
   ],
   "source": [
    "np.mean(dados_normal), np.std(dados_normal)"
   ]
  },
  {
   "cell_type": "code",
   "execution_count": 17,
   "id": "a951fdaf",
   "metadata": {},
   "outputs": [
    {
     "name": "stderr",
     "output_type": "stream",
     "text": [
      "C:\\Users\\Francisco\\anaconda3\\lib\\site-packages\\seaborn\\distributions.py:2557: FutureWarning: `distplot` is a deprecated function and will be removed in a future version. Please adapt your code to use either `displot` (a figure-level function with similar flexibility) or `histplot` (an axes-level function for histograms).\n",
      "  warnings.warn(msg, FutureWarning)\n"
     ]
    },
    {
     "data": {
      "text/plain": [
       "<AxesSubplot:ylabel='Density'>"
      ]
     },
     "execution_count": 17,
     "metadata": {},
     "output_type": "execute_result"
    },
    {
     "data": {
      "image/png": "[encoded data removed]",
      "text/plain": [
       "<Figure size 432x288 with 1 Axes>"
      ]
     },
     "metadata": {
      "needs_background": "light"
     },
     "output_type": "display_data"
    }
   ],
   "source": [
    "sns.distplot(dados_normal)"
   ]
  },
  {
   "cell_type": "markdown",
   "id": "1f839ab1",
   "metadata": {},
   "source": [
    "### Random Uniform"
   ]
  },
  {
   "cell_type": "markdown",
   "id": "69b7c5c5",
   "metadata": {},
   "source": [
    "Para problemas menos complexas podem utilizar esse tipo de distribuição para os pesos"
   ]
  },
  {
   "cell_type": "code",
   "execution_count": 18,
   "id": "9ea99526",
   "metadata": {},
   "outputs": [],
   "source": [
    "uniform = initializers.RandomUniform()"
   ]
  },
  {
   "cell_type": "code",
   "execution_count": 19,
   "id": "dfb262fe",
   "metadata": {},
   "outputs": [],
   "source": [
    "dados_uniforme = uniform(shape=[1000]) # Gerando dados"
   ]
  },
  {
   "cell_type": "code",
   "execution_count": 21,
   "id": "1040780d",
   "metadata": {},
   "outputs": [
    {
     "name": "stderr",
     "output_type": "stream",
     "text": [
      "C:\\Users\\Francisco\\anaconda3\\lib\\site-packages\\seaborn\\distributions.py:2557: FutureWarning: `distplot` is a deprecated function and will be removed in a future version. Please adapt your code to use either `displot` (a figure-level function with similar flexibility) or `histplot` (an axes-level function for histograms).\n",
      "  warnings.warn(msg, FutureWarning)\n"
     ]
    },
    {
     "data": {
      "text/plain": [
       "<AxesSubplot:ylabel='Density'>"
      ]
     },
     "execution_count": 21,
     "metadata": {},
     "output_type": "execute_result"
    },
    {
     "data": {
      "image/png": "[encoded data removed]",
      "text/plain": [
       "<Figure size 432x288 with 1 Axes>"
      ]
     },
     "metadata": {
      "needs_background": "light"
     },
     "output_type": "display_data"
    }
   ],
   "source": [
    "sns.distplot(dados_uniforme) # Observando a distribuição"
   ]
  },
  {
   "cell_type": "code",
   "execution_count": null,
   "id": "1cfc43a6",
   "metadata": {},
   "outputs": [],
   "source": []
  }
 ],
 "metadata": {
  "kernelspec": {
   "display_name": "Python 3",
   "language": "python",
   "name": "python3"
  },
  "language_info": {
   "codemirror_mode": {
    "name": "ipython",
    "version": 3
   },
   "file_extension": ".py",
   "mimetype": "text/x-python",
   "name": "python",
   "nbconvert_exporter": "python",
   "pygments_lexer": "ipython3",
   "version": "3.8.8"
  }
 },
 "nbformat": 4,
 "nbformat_minor": 5
}
